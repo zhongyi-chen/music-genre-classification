{
 "cells": [
  {
   "cell_type": "code",
   "execution_count": 14,
   "metadata": {},
   "outputs": [],
   "source": [
    "## KNN\n",
    "## Logistic Regression\n",
    "## Multilayer Perception\n",
    "## Support Vector Machine\n",
    "\n",
    "from sklearn.neighbors import KNeighborsClassifier \n",
    "from sklearn.linear_model import LogisticRegression \n",
    "from sklearn.neural_network import MLPClassifier as MLP\n",
    "from sklearn.svm import SVC\n",
    "from sklearn.model_selection import train_test_split\n",
    "from sklearn.metrics import accuracy_score\n",
    "from sklearn.model_selection import cross_validate\n",
    "from sklearn.pipeline import make_pipeline \n",
    "from sklearn.preprocessing import StandardScaler, RobustScaler\n",
    "from sklearn.metrics import classification_report\n",
    "from features_preprocessing import partial_dataset, full_dataset \n",
    "import pandas as pd\n",
    "import numpy as np\n",
    "from joblib import dump, load\n",
    "import random \n",
    "\n",
    "def predict_test_dataset(model,test_dataset,test_corrupted_id,test_csv):\n",
    "    prediction = model.predict(test_dataset)\n",
    "    dataset = np.stack([test_csv,prediction],axis=1)\n",
    "    for c in test_corrupted_id:\n",
    "        new = np.array([[c,random.randint(1,8)]])\n",
    "        dataset=np.append(dataset,new,axis=0)\n",
    "    dataset = np.int_(sorted(dataset,key=lambda x: x[0]))\n",
    "    return dataset\n",
    "    \n",
    "\n",
    "def create_models(X_train,y_train):\n",
    "    model_switcher={\n",
    "    'KNN' : make_pipeline(RobustScaler(),KNeighborsClassifier(n_neighbors=25,weights='distance', p=2,metric='manhattan')),\n",
    "    'LR' :make_pipeline(RobustScaler(),LogisticRegression(random_state=50,max_iter=1200,n_jobs=-1)),\n",
    "    'MLP' :make_pipeline(RobustScaler(),MLP(random_state=50, max_iter=800)),\n",
    "    'SVM' :make_pipeline(RobustScaler(),SVC(gamma=0.5,C=0.1)),\n",
    "    'SVM_poly' :make_pipeline(RobustScaler(),SVC(kernel='poly',coef0=1.0,degree=2,gamma=0.1,C=0.1)),\n",
    "    }\n",
    "    results =[]\n",
    "    for ms in model_switcher:\n",
    "        model = model_switcher.get(ms)\n",
    "        cv =  cross_validate(model, X_train, y_train, cv=75, n_jobs=-1, return_estimator=True,verbose=5)\n",
    "        results.append([ms,cv])\n",
    "    # get best model \n",
    "    models=[]\n",
    "    for r in results:\n",
    "        name = r[0]\n",
    "        test_scores = r[1]['test_score'].tolist()\n",
    "        best_index = test_scores.index(max(test_scores))\n",
    "        best_score = max(test_scores)\n",
    "        m= r[1]['estimator'][best_index]\n",
    "        dump(m,'./models/' +name+'.joblib')\n",
    "        models.append([name,m,best_score])    \n",
    "    models = sorted(models, key=lambda x: x[2],reverse=True)\n",
    "    return models\n",
    "\n",
    "def model_predict(X_train, X_test, y_train, y_test):\n",
    "    models = create_models(X_train, y_train)\n",
    "    for model in models:\n",
    "        prediction = model[1].predict(X_test)\n",
    "        name = model[0]\n",
    "        print(name, accuracy_score(prediction,y_test))"
   ]
  },
  {
   "cell_type": "markdown",
   "metadata": {},
   "source": [
    "## Data generation"
   ]
  },
  {
   "cell_type": "code",
   "execution_count": 15,
   "metadata": {},
   "outputs": [
    {
     "name": "stdout",
     "output_type": "stream",
     "text": [
      "(3995, 520) (4008, 519) (3995, 2) (106574, 519)\n",
      "(4008, 519) test shape\n",
      "(4006, 519) test shape\n",
      "(3995, 518) (3995,) (4006, 518)\n"
     ]
    }
   ],
   "source": [
    "train_dataset,test_dataset,test_corrupted_id = partial_dataset()\n",
    "\n",
    "X_train, test_dataset, y_train = full_dataset()\n",
    "\n",
    "X_train, X_test, y_train, y_test = train_test_split(X_train, y_train, test_size=0.2,shuffle = True)\n",
    "\n",
    "\n",
    "df = pd.read_csv(r'./data/test.csv')\n",
    "test_csv=df['track_id'].values\n",
    "\n",
    "for c in test_corrupted_id:\n",
    "    test_csv = test_csv[np.where(test_csv != c)]\n",
    "test_csv = np.asarray(sorted(test_csv.tolist()))"
   ]
  },
  {
   "cell_type": "code",
   "execution_count": 18,
   "metadata": {},
   "outputs": [],
   "source": [
    "model_predict(X_train, X_test, y_train, y_test)"
   ]
  },
  {
   "cell_type": "code",
   "execution_count": 16,
   "metadata": {},
   "outputs": [],
   "source": [
    "model = load('./models/MLP.joblib')\n",
    "test_csv = predict_test_dataset(model,test_dataset,test_corrupted_id,test_csv)\n",
    "results = pd.DataFrame(data = {'track_id': test_csv[:,0], 'genre_id': test_csv[:,1]}, columns = ['track_id', 'genre_id'])\n",
    "results.to_csv(\"results.csv\", index=False)"
   ]
  }
 ],
 "metadata": {
  "colab": {
   "collapsed_sections": [],
   "name": "classification.ipynb",
   "provenance": [],
   "toc_visible": true
  },
  "kernelspec": {
   "display_name": "myenv",
   "language": "python",
   "name": "myenv"
  },
  "language_info": {
   "codemirror_mode": {
    "name": "ipython",
    "version": 3
   },
   "file_extension": ".py",
   "mimetype": "text/x-python",
   "name": "python",
   "nbconvert_exporter": "python",
   "pygments_lexer": "ipython3",
   "version": "3.7.3"
  }
 },
 "nbformat": 4,
 "nbformat_minor": 4
}
