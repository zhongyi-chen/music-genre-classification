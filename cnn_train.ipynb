{
 "cells": [
  {
   "cell_type": "code",
   "execution_count": 1,
   "metadata": {},
   "outputs": [
    {
     "name": "stdout",
     "output_type": "stream",
     "text": [
      "Default GPU Device Details: /device:GPU:0\n"
     ]
    }
   ],
   "source": [
    "import pickle\n",
    "from sklearn.model_selection import train_test_split\n",
    "import numpy as np\n",
    "import matplotlib.pyplot as plt\n",
    "import tensorflow as tf\n",
    "import tensorflow.keras\n",
    "import os\n",
    "os.environ['TF_CPP_MIN_LOG_LEVEL']='1' # '0' for DEBUG=all [default], '1' to filter INFO msgs, '2' to filter WARNING msgs, '3' to filter all msgs\n",
    "\n",
    "from tensorflow.keras.models import Sequential\n",
    "from tensorflow.keras.layers import Dense, Dropout, Conv2D, MaxPooling2D, Flatten, BatchNormalization,Activation\n",
    "from tensorflow.keras.callbacks import EarlyStopping, ModelCheckpoint\n",
    "if tf.test.gpu_device_name():\n",
    "    print('Default GPU Device Details: {}'.format(tf.test.gpu_device_name()))\n",
    "else:\n",
    "    print(\"Please install Tensorflow that supports GPU\")\n",
    "\n",
    "physical_devices = tf.config.experimental.list_physical_devices('GPU')\n",
    "tf.config.experimental.set_memory_growth(physical_devices[0], True)"
   ]
  },
  {
   "cell_type": "code",
   "execution_count": 2,
   "metadata": {},
   "outputs": [],
   "source": [
    "if not os.path.exists('models/cnn'):\n",
    "    os.makedirs('models/cnn')\n",
    "if not os.path.exists('hist'):\n",
    "    os.makedirs('hist')"
   ]
  },
  {
   "cell_type": "code",
   "execution_count": 3,
   "metadata": {},
   "outputs": [],
   "source": [
    "# _songs=pickle.load(open('./data/dl/melspectro_songs_train_new.pickle','rb'))\n",
    "# _genres=pickle.load(open('./data/dl/melspectro_genres_train_new.pickle','rb'))\n",
    "_songs=pickle.load(open('./data/dl/melspectro_songs_train.pickle','rb'))\n",
    "_genres=pickle.load(open('./data/dl/melspectro_genres_train.pickle','rb'))"
   ]
  },
  {
   "cell_type": "code",
   "execution_count": 4,
   "metadata": {},
   "outputs": [
    {
     "name": "stdout",
     "output_type": "stream",
     "text": [
      "(3995, 1249, 128) (3995, 8)\n",
      "(1249, 128) song shape\n",
      "[0. 0. 1. 0. 0. 0. 0. 0.] one hot genre\n",
      "[[ 4.78870433e-04  6.75568346e-04  1.04120892e-03 ... -1.46984808e-04\n",
      "  -1.46985178e-04 -1.46985235e-04]\n",
      " [-5.24976666e-02  8.25241458e-01  1.51870821e+00 ... -1.80248465e-01\n",
      "  -1.80249240e-01 -1.80249384e-01]\n",
      " [-1.17489025e-01  3.45627346e-01  1.01470381e+00 ... -1.51681885e-01\n",
      "  -1.51716567e-01 -1.51745675e-01]\n",
      " ...\n",
      " [-2.09210125e-01 -2.28329570e-01 -1.65285125e-01 ... -2.40606612e-01\n",
      "  -2.40665437e-01 -2.40674918e-01]\n",
      " [ 8.98366424e-01  4.46251031e+00  6.61171525e+00 ... -2.52292546e-01\n",
      "  -2.54808300e-01 -2.55581621e-01]\n",
      " [ 1.69979374e+00  7.40141997e+00  6.14280838e+00 ... -1.95218405e-01\n",
      "  -1.95970043e-01 -1.96231254e-01]]\n"
     ]
    }
   ],
   "source": [
    "print(_songs.shape, _genres.shape)\n",
    "\n",
    "TRACK = 2 # par exemple\n",
    "\n",
    "#one song\n",
    "print(_songs[TRACK].shape,\"song shape\")\n",
    "# genre : one hot encoding\n",
    "print(_genres[TRACK],\"one hot genre\")\n",
    "\n",
    "print(_songs[TRACK])"
   ]
  },
  {
   "cell_type": "code",
   "execution_count": 5,
   "metadata": {},
   "outputs": [],
   "source": [
    "X = _songs.reshape(_songs.shape[0],_songs.shape[1],_songs.shape[2],1)\n",
    "y = _genres\n",
    "X_train, X_validation, y_train, y_validation = train_test_split(X, y, train_size=0.8, random_state=1234)\n",
    "num_classes=8"
   ]
  },
  {
   "cell_type": "code",
   "execution_count": 6,
   "metadata": {},
   "outputs": [],
   "source": [
    "def cnn(batch_size,epochs):\n",
    "    model = Sequential()\n",
    "    model.add(Conv2D(filters=64,kernel_size=(3,3),padding='same',input_shape=(X.shape[1],X.shape[2],1),activation='elu'))\n",
    "    model.add(BatchNormalization())\n",
    "    model.add(MaxPooling2D(pool_size=(2,2),padding='same'))\n",
    "    model.add(Dropout(0.2))\n",
    "    model.add(Conv2D(filters=128,kernel_size=(3,3),padding='same',activation='elu'))\n",
    "    model.add(BatchNormalization())\n",
    "    model.add(MaxPooling2D(pool_size=(2,2),padding='same'))\n",
    "    model.add(Dropout(0.2))\n",
    "\n",
    "    model.add(Conv2D(filters=256,kernel_size=(3,3),padding='same',activation='elu'))\n",
    "    model.add(BatchNormalization())\n",
    "    model.add(MaxPooling2D(pool_size=(2,2),padding='same'))\n",
    "    model.add(Dropout(0.2))\n",
    "    model.add(Conv2D(filters=512,kernel_size=(3,3),padding='same',activation='elu'))\n",
    "    model.add(BatchNormalization())\n",
    "    model.add(MaxPooling2D(pool_size=(2,2),padding='same'))\n",
    "    model.add(Dropout(0.2))\n",
    "\n",
    "    model.add(Flatten())\n",
    "    model.add(Dense(num_classes,activation='softmax'))\n",
    "    \n",
    "    earlyStopping = EarlyStopping(monitor='val_loss', patience=15, verbose=0, mode='min')\n",
    "    checkpoint = ModelCheckpoint('./models/cnn/model-{epoch:03d}-{accuracy:03f}-{val_accuracy:03f}.h5', verbose=1, monitor='val_accuracy',save_best_only=True, mode='max')\n",
    "    model.compile(loss='categorical_crossentropy', optimizer='adam', metrics=['accuracy'])\n",
    "    model.summary()\n",
    "    hist = model.fit(X_train,y_train,validation_data=(X_validation,y_validation),batch_size=batch_size,epochs=epochs,callbacks=[earlyStopping,checkpoint])\n",
    "    np.save(\"hist/hist.npy\",hist.history)"
   ]
  },
  {
   "cell_type": "code",
   "execution_count": 9,
   "metadata": {},
   "outputs": [
    {
     "name": "stdout",
     "output_type": "stream",
     "text": [
      "Model: \"sequential_2\"\n",
      "_________________________________________________________________\n",
      "Layer (type)                 Output Shape              Param #   \n",
      "=================================================================\n",
      "conv2d_8 (Conv2D)            (None, 1249, 128, 64)     640       \n",
      "_________________________________________________________________\n",
      "batch_normalization_8 (Batch (None, 1249, 128, 64)     256       \n",
      "_________________________________________________________________\n",
      "max_pooling2d_8 (MaxPooling2 (None, 625, 64, 64)       0         \n",
      "_________________________________________________________________\n",
      "dropout_8 (Dropout)          (None, 625, 64, 64)       0         \n",
      "_________________________________________________________________\n",
      "conv2d_9 (Conv2D)            (None, 625, 64, 128)      73856     \n",
      "_________________________________________________________________\n",
      "batch_normalization_9 (Batch (None, 625, 64, 128)      512       \n",
      "_________________________________________________________________\n",
      "max_pooling2d_9 (MaxPooling2 (None, 313, 32, 128)      0         \n",
      "_________________________________________________________________\n",
      "dropout_9 (Dropout)          (None, 313, 32, 128)      0         \n",
      "_________________________________________________________________\n",
      "conv2d_10 (Conv2D)           (None, 313, 32, 256)      295168    \n",
      "_________________________________________________________________\n",
      "batch_normalization_10 (Batc (None, 313, 32, 256)      1024      \n",
      "_________________________________________________________________\n",
      "max_pooling2d_10 (MaxPooling (None, 157, 16, 256)      0         \n",
      "_________________________________________________________________\n",
      "dropout_10 (Dropout)         (None, 157, 16, 256)      0         \n",
      "_________________________________________________________________\n",
      "conv2d_11 (Conv2D)           (None, 157, 16, 512)      1180160   \n",
      "_________________________________________________________________\n",
      "batch_normalization_11 (Batc (None, 157, 16, 512)      2048      \n",
      "_________________________________________________________________\n",
      "max_pooling2d_11 (MaxPooling (None, 79, 8, 512)        0         \n",
      "_________________________________________________________________\n",
      "dropout_11 (Dropout)         (None, 79, 8, 512)        0         \n",
      "_________________________________________________________________\n",
      "flatten_2 (Flatten)          (None, 323584)            0         \n",
      "_________________________________________________________________\n",
      "dense_2 (Dense)              (None, 8)                 2588680   \n",
      "=================================================================\n",
      "Total params: 4,142,344\n",
      "Trainable params: 4,140,424\n",
      "Non-trainable params: 1,920\n",
      "_________________________________________________________________\n",
      "Epoch 1/40\n",
      "115/115 [==============================] - ETA: 0s - loss: 74.1859 - accuracy: 0.2150\n",
      "Epoch 00001: val_accuracy improved from -inf to 0.19024, saving model to ./models/cnn/model-001-0.214956-0.190238.h5\n",
      "115/115 [==============================] - 39s 341ms/step - loss: 74.1859 - accuracy: 0.2150 - val_loss: 121.0369 - val_accuracy: 0.1902\n",
      "Epoch 2/40\n",
      "114/115 [============================>.] - ETA: 0s - loss: 41.7171 - accuracy: 0.3136\n",
      "Epoch 00002: val_accuracy did not improve from 0.19024\n",
      "115/115 [==============================] - 37s 322ms/step - loss: 41.7131 - accuracy: 0.3135 - val_loss: 40.1260 - val_accuracy: 0.1752\n",
      "Epoch 3/40\n",
      "114/115 [============================>.] - ETA: 0s - loss: 39.1832 - accuracy: 0.3622\n",
      "Epoch 00003: val_accuracy improved from 0.19024 to 0.22403, saving model to ./models/cnn/model-003-0.362015-0.224030.h5\n",
      "115/115 [==============================] - 38s 328ms/step - loss: 39.2062 - accuracy: 0.3620 - val_loss: 65.7832 - val_accuracy: 0.2240\n",
      "Epoch 4/40\n",
      "114/115 [============================>.] - ETA: 0s - loss: 27.8863 - accuracy: 0.4383\n",
      "Epoch 00004: val_accuracy improved from 0.22403 to 0.24906, saving model to ./models/cnn/model-004-0.438673-0.249061.h5\n",
      "115/115 [==============================] - 35s 307ms/step - loss: 27.8521 - accuracy: 0.4387 - val_loss: 41.9189 - val_accuracy: 0.2491\n",
      "Epoch 5/40\n",
      "114/115 [============================>.] - ETA: 0s - loss: 20.5942 - accuracy: 0.5194\n",
      "Epoch 00005: val_accuracy improved from 0.24906 to 0.31915, saving model to ./models/cnn/model-005-0.519712-0.319149.h5\n",
      "115/115 [==============================] - 35s 302ms/step - loss: 20.5837 - accuracy: 0.5197 - val_loss: 44.4886 - val_accuracy: 0.3191\n",
      "Epoch 6/40\n",
      "114/115 [============================>.] - ETA: 0s - loss: 15.7187 - accuracy: 0.5796\n",
      "Epoch 00006: val_accuracy did not improve from 0.31915\n",
      "115/115 [==============================] - 34s 297ms/step - loss: 15.7416 - accuracy: 0.5792 - val_loss: 50.1620 - val_accuracy: 0.2491\n",
      "Epoch 7/40\n",
      "114/115 [============================>.] - ETA: 0s - loss: 18.9143 - accuracy: 0.5771\n",
      "Epoch 00007: val_accuracy did not improve from 0.31915\n",
      "115/115 [==============================] - 34s 297ms/step - loss: 18.9081 - accuracy: 0.5767 - val_loss: 48.2397 - val_accuracy: 0.2641\n",
      "Epoch 8/40\n",
      "114/115 [============================>.] - ETA: 0s - loss: 13.4302 - accuracy: 0.6451\n",
      "Epoch 00008: val_accuracy did not improve from 0.31915\n",
      "115/115 [==============================] - 34s 297ms/step - loss: 13.4151 - accuracy: 0.6452 - val_loss: 61.4857 - val_accuracy: 0.2653\n",
      "Epoch 9/40\n",
      "114/115 [============================>.] - ETA: 0s - loss: 7.6116 - accuracy: 0.7578\n",
      "Epoch 00009: val_accuracy improved from 0.31915 to 0.33166, saving model to ./models/cnn/model-009-0.758135-0.331665.h5\n",
      "115/115 [==============================] - 35s 302ms/step - loss: 7.6020 - accuracy: 0.7581 - val_loss: 48.3302 - val_accuracy: 0.3317\n",
      "Epoch 10/40\n",
      "114/115 [============================>.] - ETA: 0s - loss: 4.3224 - accuracy: 0.8227\n",
      "Epoch 00010: val_accuracy improved from 0.33166 to 0.37672, saving model to ./models/cnn/model-010-0.822278-0.376721.h5\n",
      "115/115 [==============================] - 35s 302ms/step - loss: 4.3262 - accuracy: 0.8223 - val_loss: 35.1634 - val_accuracy: 0.3767\n",
      "Epoch 11/40\n",
      "114/115 [============================>.] - ETA: 0s - loss: 5.9663 - accuracy: 0.7945\n",
      "Epoch 00011: val_accuracy did not improve from 0.37672\n",
      "115/115 [==============================] - 34s 297ms/step - loss: 5.9908 - accuracy: 0.7941 - val_loss: 54.6863 - val_accuracy: 0.3029\n",
      "Epoch 12/40\n",
      "114/115 [============================>.] - ETA: 0s - loss: 4.9375 - accuracy: 0.8202\n",
      "Epoch 00012: val_accuracy improved from 0.37672 to 0.39174, saving model to ./models/cnn/model-012-0.820088-0.391740.h5\n",
      "115/115 [==============================] - 35s 302ms/step - loss: 4.9398 - accuracy: 0.8201 - val_loss: 46.2158 - val_accuracy: 0.3917\n",
      "Epoch 13/40\n",
      "114/115 [============================>.] - ETA: 0s - loss: 2.9876 - accuracy: 0.8747\n",
      "Epoch 00013: val_accuracy did not improve from 0.39174\n",
      "115/115 [==============================] - 34s 297ms/step - loss: 2.9966 - accuracy: 0.8745 - val_loss: 45.2048 - val_accuracy: 0.3605\n",
      "Epoch 14/40\n",
      "114/115 [============================>.] - ETA: 0s - loss: 3.3183 - accuracy: 0.8759\n",
      "Epoch 00014: val_accuracy did not improve from 0.39174\n",
      "115/115 [==============================] - 34s 297ms/step - loss: 3.3516 - accuracy: 0.8758 - val_loss: 51.7457 - val_accuracy: 0.3317\n",
      "Epoch 15/40\n",
      "114/115 [============================>.] - ETA: 0s - loss: 1.7806 - accuracy: 0.9214\n",
      "Epoch 00015: val_accuracy did not improve from 0.39174\n",
      "115/115 [==============================] - 34s 297ms/step - loss: 1.7784 - accuracy: 0.9215 - val_loss: 51.4645 - val_accuracy: 0.3542\n",
      "Epoch 16/40\n",
      "114/115 [============================>.] - ETA: 0s - loss: 1.7598 - accuracy: 0.9198\n",
      "Epoch 00016: val_accuracy did not improve from 0.39174\n",
      "115/115 [==============================] - 34s 297ms/step - loss: 1.7576 - accuracy: 0.9199 - val_loss: 52.6904 - val_accuracy: 0.3780\n",
      "Epoch 17/40\n",
      "114/115 [============================>.] - ETA: 0s - loss: 1.5144 - accuracy: 0.9301\n",
      "Epoch 00017: val_accuracy did not improve from 0.39174\n",
      "115/115 [==============================] - 34s 297ms/step - loss: 1.5125 - accuracy: 0.9302 - val_loss: 52.7193 - val_accuracy: 0.3705\n",
      "Epoch 18/40\n",
      "114/115 [============================>.] - ETA: 0s - loss: 0.8999 - accuracy: 0.9546\n",
      "Epoch 00018: val_accuracy did not improve from 0.39174\n",
      "115/115 [==============================] - 34s 297ms/step - loss: 0.8987 - accuracy: 0.9546 - val_loss: 60.2553 - val_accuracy: 0.3479\n",
      "Epoch 19/40\n",
      "114/115 [============================>.] - ETA: 0s - loss: 1.0611 - accuracy: 0.9499\n",
      "Epoch 00019: val_accuracy improved from 0.39174 to 0.39549, saving model to ./models/cnn/model-019-0.949625-0.395494.h5\n",
      "115/115 [==============================] - 35s 301ms/step - loss: 1.0643 - accuracy: 0.9496 - val_loss: 49.3121 - val_accuracy: 0.3955\n",
      "Epoch 20/40\n",
      "114/115 [============================>.] - ETA: 0s - loss: 1.7147 - accuracy: 0.9358\n",
      "Epoch 00020: val_accuracy did not improve from 0.39549\n",
      "115/115 [==============================] - 34s 297ms/step - loss: 1.7129 - accuracy: 0.9355 - val_loss: 50.2547 - val_accuracy: 0.3392\n",
      "Epoch 21/40\n",
      "114/115 [============================>.] - ETA: 0s - loss: 2.1839 - accuracy: 0.9254\n",
      "Epoch 00021: val_accuracy did not improve from 0.39549\n",
      "115/115 [==============================] - 34s 297ms/step - loss: 2.2011 - accuracy: 0.9246 - val_loss: 58.3246 - val_accuracy: 0.3717\n",
      "Epoch 22/40\n",
      "114/115 [============================>.] - ETA: 0s - loss: 3.9734 - accuracy: 0.8888\n",
      "Epoch 00022: val_accuracy did not improve from 0.39549\n",
      "115/115 [==============================] - 34s 297ms/step - loss: 4.0194 - accuracy: 0.8883 - val_loss: 72.9389 - val_accuracy: 0.3579\n",
      "Epoch 23/40\n",
      "114/115 [============================>.] - ETA: 0s - loss: 3.3320 - accuracy: 0.9023\n",
      "Epoch 00023: val_accuracy did not improve from 0.39549\n",
      "115/115 [==============================] - 34s 297ms/step - loss: 3.3279 - accuracy: 0.9024 - val_loss: 57.4328 - val_accuracy: 0.3655\n",
      "Epoch 24/40\n",
      "114/115 [============================>.] - ETA: 0s - loss: 1.5190 - accuracy: 0.9474\n",
      "Epoch 00024: val_accuracy improved from 0.39549 to 0.40426, saving model to ./models/cnn/model-024-0.947434-0.404255.h5\n",
      "115/115 [==============================] - 35s 302ms/step - loss: 1.5171 - accuracy: 0.9474 - val_loss: 59.5780 - val_accuracy: 0.4043\n",
      "Epoch 25/40\n",
      "114/115 [============================>.] - ETA: 0s - loss: 0.8626 - accuracy: 0.9627\n",
      "Epoch 00025: val_accuracy did not improve from 0.40426\n",
      "115/115 [==============================] - 34s 297ms/step - loss: 0.8616 - accuracy: 0.9628 - val_loss: 61.5654 - val_accuracy: 0.3692\n"
     ]
    }
   ],
   "source": [
    "cnn(28,40)"
   ]
  },
  {
   "cell_type": "code",
   "execution_count": 10,
   "metadata": {},
   "outputs": [
    {
     "data": {
      "image/png": "[encoded data removed]",
      "text/plain": [
       "<Figure size 432x288 with 1 Axes>"
      ]
     },
     "metadata": {
      "needs_background": "light"
     },
     "output_type": "display_data"
    },
    {
     "data": {
      "image/png": "[encoded data removed]",
      "text/plain": [
       "<Figure size 432x288 with 1 Axes>"
      ]
     },
     "metadata": {
      "needs_background": "light"
     },
     "output_type": "display_data"
    }
   ],
   "source": [
    "hist = np.load('hist/hist.npy',allow_pickle='TRUE').item()\n",
    "plt.figure(0)\n",
    "plt.title('accuracy')\n",
    "plt.xlabel('epoch')\n",
    "plt.ylabel('accuracy')\n",
    "plt.plot(hist['accuracy'])\n",
    "plt.plot(hist['val_accuracy'])\n",
    "plt.legend(['acc','val_acc'])\n",
    "plt.savefig('models/cnn/hist_acc.png')\n",
    "\n",
    "plt.figure(1)\n",
    "plt.title('loss')\n",
    "plt.xlabel('epoch')\n",
    "plt.ylabel('loss')\n",
    "plt.plot(hist['loss'])\n",
    "plt.plot(hist['val_loss'])\n",
    "plt.legend(['loss','val_loss'])\n",
    "plt.savefig('models/cnn/hist_loss.png')\n",
    "plt.show()"
   ]
  },
  {
   "cell_type": "code",
   "execution_count": null,
   "metadata": {},
   "outputs": [],
   "source": []
  }
 ],
 "metadata": {
  "kernelspec": {
   "display_name": "myenv",
   "language": "python",
   "name": "myenv"
  },
  "language_info": {
   "codemirror_mode": {
    "name": "ipython",
    "version": 3
   },
   "file_extension": ".py",
   "mimetype": "text/x-python",
   "name": "python",
   "nbconvert_exporter": "python",
   "pygments_lexer": "ipython3",
   "version": "3.7.3"
  }
 },
 "nbformat": 4,
 "nbformat_minor": 4
}
